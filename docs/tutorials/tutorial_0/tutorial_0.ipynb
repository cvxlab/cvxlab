{
 "cells": [
  {
   "cell_type": "code",
   "execution_count": null,
   "id": "68707d0b",
   "metadata": {},
   "outputs": [],
   "source": [
    "# import package\n",
    "import cvxlab\n",
    "\n",
    "# define root path\n",
    "main_dir_path = r\"D:\\Politecnico di Milano\\DENG-PRIN-MIMO - Documenti\\Models\\tutorial_leo\"\n",
    "\n",
    "# define model directory name\n",
    "model_dir_name = 'cvxlab_tutorial'"
   ]
  },
  {
   "cell_type": "code",
   "execution_count": null,
   "id": "a31efb8e",
   "metadata": {},
   "outputs": [],
   "source": [
    "# step 1: create a model directory\n",
    "cvxlab.create_model_dir(\n",
    "    model_dir_name=model_dir_name,\n",
    "    main_dir_path=main_dir_path,\n",
    "    template_file_type='xlsx',\n",
    "    export_tutorial=False,\n",
    ")"
   ]
  },
  {
   "cell_type": "code",
   "execution_count": null,
   "id": "c52c8d8c",
   "metadata": {},
   "outputs": [],
   "source": [
    "# step 2: fill model_settings.xlsx with the model settings"
   ]
  },
  {
   "cell_type": "code",
   "execution_count": null,
   "id": "39a9d852",
   "metadata": {},
   "outputs": [],
   "source": [
    "# step 3: create a model object based on the defined model settings \n",
    "model = cvxlab.Model(\n",
    "    model_dir_name=model_dir_name,\n",
    "    main_dir_path=main_dir_path,\n",
    "    log_level='debug',\n",
    "    model_settings_from='xlsx',\n",
    "    detailed_validation=True,\n",
    ")"
   ]
  },
  {
   "cell_type": "code",
   "execution_count": null,
   "id": "47f7d215",
   "metadata": {},
   "outputs": [],
   "source": [
    "# step 4: fill sets.xlsx with the sets data (list of technologies, list of years, list of scenarios, filters etc.)"
   ]
  },
  {
   "cell_type": "code",
   "execution_count": null,
   "id": "b006912c",
   "metadata": {},
   "outputs": [],
   "source": [
    "# step 5: load coordinates based on sets.xlsx and generate data structures (database, input data files) \n",
    "model.load_model_coordinates()\n",
    "model.initialize_blank_data_structure()"
   ]
  },
  {
   "cell_type": "code",
   "execution_count": null,
   "id": "59cf0ed1",
   "metadata": {},
   "outputs": [],
   "source": [
    "# step 6: fill data.xlsx with the data for the model (exogenous data)"
   ]
  },
  {
   "cell_type": "code",
   "execution_count": null,
   "id": "bc6253d0",
   "metadata": {},
   "outputs": [],
   "source": [
    "# step 7: load exogenous data, initialize the problem \n",
    "model.load_exogenous_data_to_sqlite_database()\n",
    "model.initialize_problems()"
   ]
  },
  {
   "cell_type": "code",
   "execution_count": null,
   "id": "89c1f7b8",
   "metadata": {},
   "outputs": [],
   "source": [
    "# step 8: solve the model\n",
    "model.run_model()"
   ]
  },
  {
   "cell_type": "code",
   "execution_count": null,
   "id": "4fdf5123",
   "metadata": {},
   "outputs": [],
   "source": [
    "# step 9: export results to SQLite database\n",
    "model.load_results_to_database()"
   ]
  },
  {
   "cell_type": "code",
   "execution_count": null,
   "id": "7286810e",
   "metadata": {},
   "outputs": [],
   "source": [
    "# explore results\n"
   ]
  }
 ],
 "metadata": {
  "kernelspec": {
   "display_name": "esm",
   "language": "python",
   "name": "python3"
  },
  "language_info": {
   "codemirror_mode": {
    "name": "ipython",
    "version": 3
   },
   "file_extension": ".py",
   "mimetype": "text/x-python",
   "name": "python",
   "nbconvert_exporter": "python",
   "pygments_lexer": "ipython3",
   "version": "3.10.13"
  }
 },
 "nbformat": 4,
 "nbformat_minor": 5
}
