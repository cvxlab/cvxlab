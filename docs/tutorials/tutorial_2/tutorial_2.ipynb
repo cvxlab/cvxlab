{
 "cells": [
  {
   "cell_type": "code",
   "execution_count": null,
   "id": "68707d0b",
   "metadata": {},
   "outputs": [],
   "source": [
    "# import package\n",
    "import cvxlab\n",
    "\n",
    "# define root path\n",
    "main_dir_path = r\"D:\\git_repos\\cvxlab\\tutorials\\tutorial_2\"\n",
    "\n",
    "# define model directory name\n",
    "model_dir_name = 'model'"
   ]
  },
  {
   "cell_type": "code",
   "execution_count": null,
   "id": "a31efb8e",
   "metadata": {},
   "outputs": [],
   "source": [
    "# step 1: create a model directory\n",
    "cvxlab.create_model_dir(\n",
    "    model_dir_name=model_dir_name,\n",
    "    main_dir_path=main_dir_path,\n",
    "    template_file_type='xlsx',\n",
    "    export_tutorial=False,\n",
    ")"
   ]
  },
  {
   "cell_type": "code",
   "execution_count": null,
   "id": "c52c8d8c",
   "metadata": {},
   "outputs": [],
   "source": [
    "# step 2: fill model_settings.xlsx with the model settings"
   ]
  },
  {
   "cell_type": "code",
   "execution_count": null,
   "id": "39a9d852",
   "metadata": {},
   "outputs": [],
   "source": [
    "# step 3: create a model object based on the defined model settings \n",
    "model = cvxlab.Model(\n",
    "    model_dir_name=model_dir_name,\n",
    "    main_dir_path=main_dir_path,\n",
    "    log_level='debug',\n",
    "    model_settings_from='xlsx',\n",
    "    detailed_validation=True,\n",
    ")"
   ]
  },
  {
   "cell_type": "code",
   "execution_count": null,
   "id": "47f7d215",
   "metadata": {},
   "outputs": [],
   "source": [
    "# step 4: fill sets.xlsx with the sets data (list of technologies, list of years, list of scenarios, filters etc.)"
   ]
  },
  {
   "cell_type": "code",
   "execution_count": null,
   "id": "b006912c",
   "metadata": {},
   "outputs": [],
   "source": [
    "# step 5: load coordinates based on sets.xlsx and generate data structures (database, input data files) \n",
    "model.load_model_coordinates()\n",
    "model.initialize_blank_data_structure()"
   ]
  },
  {
   "cell_type": "code",
   "execution_count": null,
   "id": "59cf0ed1",
   "metadata": {},
   "outputs": [],
   "source": [
    "# step 6: fill data.xlsx with the data for the model (exogenous data)"
   ]
  },
  {
   "cell_type": "code",
   "execution_count": 19,
   "id": "bc6253d0",
   "metadata": {},
   "outputs": [
    {
     "name": "stderr",
     "output_type": "stream",
     "text": [
      "INFO | Model | Numerical model generation...\u001b[0m\n",
      "INFO | Model.core | Loading and validating symbolic problem...\u001b[0m\n",
      "\u001b[38;5;214mWARNING | Model.core.problem | Symbolic problem already loaded.\u001b[0m\n",
      "INFO | Model.core.problem | Symbolic problem NOT updated.\u001b[0m\n",
      "\u001b[32mDEBUG | Model.core.problem | Validating symbolic problem expressions coherence.\u001b[0m\n",
      "INFO | Model.core | Loading and validating symbolic problem... DONE (3.53 seconds)\u001b[0m\n",
      "INFO | Model.core | Checking exogenous data coherence...\u001b[0m\n",
      "\u001b[32mDEBUG | Model.core.sql_manager | Connection to 'database.db' opened.\u001b[0m\n",
      "\u001b[32mDEBUG | Model.core.sql_manager | Connection to 'database.db' closed.\u001b[0m\n",
      "INFO | Model.core | Checking exogenous data coherence... DONE (0.00 seconds)\u001b[0m\n",
      "INFO | Model.core | Generating data structures for endogenous data tables...\u001b[0m\n",
      "\u001b[32mDEBUG | Model.core | Data table 'Q' | type: endogenous | Generating dataframe and cvxpy variable.\u001b[0m\n",
      "\u001b[32mDEBUG | Model.core | Data table 'X' | type: endogenous | Generating dataframe and cvxpy variable.\u001b[0m\n",
      "\u001b[32mDEBUG | Model.core | Data table 'VA' | type: endogenous | Generating dataframe and cvxpy variable.\u001b[0m\n",
      "INFO | Model.core | Generating data structures for endogenous data tables... DONE (0.03 seconds)\u001b[0m\n",
      "INFO | Model.core | Generating data structures for all variables and constants...\u001b[0m\n",
      "\u001b[32mDEBUG | Model.core | Variable 'u' | type: exogenous | Generating data structure.\u001b[0m\n",
      "\u001b[32mDEBUG | Model.core | Variable 'd' | type: exogenous | Generating data structure.\u001b[0m\n",
      "\u001b[32mDEBUG | Model.core | Variable 'v' | type: exogenous | Generating data structure.\u001b[0m\n",
      "\u001b[32mDEBUG | Model.core | Variable 'Y' | type: exogenous | Generating data structure.\u001b[0m\n",
      "\u001b[32mDEBUG | Model.core | Variable 'Q' | type: endogenous | Generating data structure.\u001b[0m\n",
      "\u001b[32mDEBUG | Model.core | Variable 'X' | type: endogenous | Generating data structure.\u001b[0m\n",
      "\u001b[32mDEBUG | Model.core | Variable 'VA' | type: endogenous | Generating data structure.\u001b[0m\n",
      "INFO | Model.core | Generating data structures for all variables and constants... DONE (0.15 seconds)\u001b[0m\n",
      "INFO | Model.core | Fetching data from 'database.db' to cvxpy exogenous variables...\u001b[0m\n",
      "\u001b[32mDEBUG | Model.core.sql_manager | Connection to 'database.db' opened.\u001b[0m\n",
      "\u001b[32mDEBUG | Model.core | Fetching data to variables | Data table 'u'\u001b[0m\n",
      "\u001b[32mDEBUG | Model.core | Fetching data to variables | Data table 'd'\u001b[0m\n",
      "\u001b[32mDEBUG | Model.core | Fetching data to variables | Data table 'v'\u001b[0m\n",
      "\u001b[32mDEBUG | Model.core | Fetching data to variables | Data table 'Y'\u001b[0m\n",
      "\u001b[32mDEBUG | Model.core.sql_manager | Connection to 'database.db' closed.\u001b[0m\n",
      "INFO | Model.core | Fetching data from 'database.db' to cvxpy exogenous variables... DONE (0.07 seconds)\u001b[0m\n",
      "INFO | Model.core.problem | Generating cvxpy numerical problem/s...\u001b[0m\n",
      "INFO | Model.core.problem | Numerical problem overwritten.\u001b[0m\n",
      "\u001b[32mDEBUG | Model.core.problem | Defining problem for scenario: ['minimo'].\u001b[0m\n",
      "\u001b[32mDEBUG | Model.core.problem | Processing literal expression | 'Q - u @ X - Y >= 0'\u001b[0m\n",
      "\u001b[32mDEBUG | Model.core.problem | Processing literal expression | 'd @ Q - X >= 0'\u001b[0m\n",
      "\u001b[32mDEBUG | Model.core.problem | Processing literal expression | 'VA == v @ diag(X)'\u001b[0m\n",
      "\u001b[32mDEBUG | Model.core.problem | Processing literal expression | 'sum(Q) == mult(sum(X), 2)'\u001b[0m\n",
      "\u001b[32mDEBUG | Model.core.problem | Defining problem for scenario: ['massimo'].\u001b[0m\n",
      "\u001b[32mDEBUG | Model.core.problem | Processing literal expression | 'Q - u @ X - Y >= 0'\u001b[0m\n",
      "\u001b[32mDEBUG | Model.core.problem | Processing literal expression | 'd @ Q - X >= 0'\u001b[0m\n",
      "\u001b[32mDEBUG | Model.core.problem | Processing literal expression | 'VA == v @ diag(X)'\u001b[0m\n",
      "\u001b[32mDEBUG | Model.core.problem | Processing literal expression | 'sum(Q) == mult(sum(X), 2)'\u001b[0m\n",
      "INFO | Model.core.problem | Generating cvxpy numerical problem/s... DONE (0.15 seconds)\u001b[0m\n",
      "INFO | Model | Numerical model generation... DONE (3.94 seconds)\u001b[0m\n"
     ]
    }
   ],
   "source": [
    "# step 7: load exogenous data, initialize the problem \n",
    "# model.load_exogenous_data_to_sqlite_database()\n",
    "model.initialize_problems()"
   ]
  },
  {
   "cell_type": "code",
   "execution_count": 20,
   "id": "89c1f7b8",
   "metadata": {},
   "outputs": [
    {
     "name": "stderr",
     "output_type": "stream",
     "text": [
      "INFO | Model | Model run summary: \n",
      "\tNumber of problems: 1 \n",
      "\tSolution mode: 'independent' \n",
      "\tScenarios number: 2 \n",
      "\tSolver: 'GUROBI'\n",
      "\u001b[0m\n",
      "INFO | Model | Solving numerical problems...\u001b[0m\n",
      "INFO | Model.core.problem | Solving cvxpy problem | Scenario ['minimo'].\u001b[0m\n",
      "INFO | Model.core.problem | Problem status: 'optimal'\u001b[0m\n",
      "INFO | Model.core.problem | Solving cvxpy problem | Scenario ['massimo'].\u001b[0m\n",
      "INFO | Model.core.problem | Problem status: 'optimal'\u001b[0m\n",
      "INFO | Model | Solving numerical problems... DONE (0.11 seconds)\u001b[0m\n",
      "INFO | Model | ==============================\u001b[0m\n",
      "INFO | Model | Numerical problems status report:\u001b[0m\n",
      "INFO | Model | Scenario ['minimo']: optimal\u001b[0m\n",
      "INFO | Model | Scenario ['massimo']: optimal\u001b[0m\n"
     ]
    }
   ],
   "source": [
    "# step 8: solve the model\n",
    "model.run_model()"
   ]
  },
  {
   "cell_type": "code",
   "execution_count": 17,
   "id": "4fdf5123",
   "metadata": {},
   "outputs": [
    {
     "name": "stderr",
     "output_type": "stream",
     "text": [
      "INFO | Model | Exporting endogenous model results to SQLite database...\u001b[0m\n",
      "\u001b[32mDEBUG | Model.core | Exporting data from cvxpy endogenous variable (in data table) to SQLite database 'database.db' \u001b[0m\n",
      "\u001b[32mDEBUG | Model.core.sql_manager | Connection to 'database.db' opened.\u001b[0m\n",
      "\u001b[32mDEBUG | Model.core.sql_manager | SQLite table 'Q' | action 'update' | entries: 20\u001b[0m\n",
      "\u001b[32mDEBUG | Model.core.sql_manager | SQLite table 'X' | action 'update' | entries: 20\u001b[0m\n",
      "\u001b[32mDEBUG | Model.core.sql_manager | SQLite table 'VA' | action 'update' | entries: 20\u001b[0m\n",
      "\u001b[32mDEBUG | Model.core.sql_manager | Connection to 'database.db' closed.\u001b[0m\n",
      "INFO | Model | Exporting endogenous model results to SQLite database... DONE (0.15 seconds)\u001b[0m\n"
     ]
    }
   ],
   "source": [
    "# step 9: export results to SQLite database\n",
    "model.load_results_to_database()"
   ]
  },
  {
   "cell_type": "code",
   "execution_count": null,
   "id": "7286810e",
   "metadata": {},
   "outputs": [],
   "source": [
    "# explore results\n"
   ]
  },
  {
   "cell_type": "code",
   "execution_count": 18,
   "id": "13a3717c",
   "metadata": {},
   "outputs": [
    {
     "name": "stderr",
     "output_type": "stream",
     "text": [
      "INFO | Model | Loading input data to SQLite database...\u001b[0m\n",
      "\u001b[32mDEBUG | Model.core.database | Loading data from input file/s filled by the user to SQLite database.\u001b[0m\n",
      "\u001b[32mDEBUG | Model.core.sql_manager | Connection to 'database.db' opened.\u001b[0m\n",
      "\u001b[32mDEBUG | Model.core.sql_manager | SQLite table 'Y' | action 'update' | entries: 20\u001b[0m\n",
      "\u001b[32mDEBUG | Model.core.sql_manager | Connection to 'database.db' closed.\u001b[0m\n",
      "\u001b[32mDEBUG | Model.core.database | Filling blank data in SQLite data tables based on the 'blank_fill' attribute of each variable.\u001b[0m\n",
      "\u001b[32mDEBUG | Model.core.sql_manager | Connection to 'database.db' opened.\u001b[0m\n",
      "\u001b[32mDEBUG | Model.core.sql_manager | Connection to 'database.db' closed.\u001b[0m\n",
      "INFO | Model | Loading input data to SQLite database... DONE (0.05 seconds)\u001b[0m\n"
     ]
    }
   ],
   "source": [
    "model.load_exogenous_data_to_sqlite_database(\n",
    "    table_key_list=['Y']\n",
    ")"
   ]
  },
  {
   "cell_type": "code",
   "execution_count": null,
   "id": "a111ddd6",
   "metadata": {},
   "outputs": [],
   "source": []
  }
 ],
 "metadata": {
  "kernelspec": {
   "display_name": "esm",
   "language": "python",
   "name": "python3"
  },
  "language_info": {
   "codemirror_mode": {
    "name": "ipython",
    "version": 3
   },
   "file_extension": ".py",
   "mimetype": "text/x-python",
   "name": "python",
   "nbconvert_exporter": "python",
   "pygments_lexer": "ipython3",
   "version": "3.10.13"
  }
 },
 "nbformat": 4,
 "nbformat_minor": 5
}
