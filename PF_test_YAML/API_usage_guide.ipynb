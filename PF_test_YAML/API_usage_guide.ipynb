{
 "cells": [
  {
   "cell_type": "markdown",
   "metadata": {},
   "source": [
    "## CVXlab - Open-Source, Python-based, linear programming model generator"
   ]
  },
  {
   "cell_type": "markdown",
   "metadata": {},
   "source": [
    "- - -\n",
    "PACKAGE LOCAL INSTALLATION and USAGE\n",
    "\n",
    "Editable local installation:\n",
    "1. Create a virtual environment based on 'environment.yml' file.\n",
    "2. In the cmd, from the package root, run: >>> python setup.py sdist bdist_wheel\n",
    "2. In the cmd, from the package root, run: >>> python -m pip install -e .\n",
    "3. From the virtual environment: >>> import esm\n",
    "4. Use esm APIs (Model class, create_model_dir method)\n"
   ]
  },
  {
   "cell_type": "markdown",
   "metadata": {},
   "source": [
    "- - -\n",
    "CREATE/UPDATE ENVIRONMENT BASED ON YML FILE IN PROJECT REPO\n",
    "\n",
    "In the prompt:\n",
    "- From the path where environment.yml is present: >>> conda env create -f environment.yml\n",
    "- The environment is named \"esm\", so type >>> conda activate esm\n",
    "\n",
    "UPDATE ENVIRONMENT YML FILE (in case of modifications)\n",
    "\n",
    "In the prompt: \n",
    "- activate the working environment: >>> conda activate your_environment_name\n",
    "- export environment.yml file based on the working environment: >>> conda env export > environment.yml\n"
   ]
  },
  {
   "cell_type": "markdown",
   "metadata": {},
   "source": [
    "- - - \n",
    "IMPORT PACKAGE, DEFINE MODEL NAME AND ROOT PATH"
   ]
  },
  {
   "cell_type": "code",
   "execution_count": 2,
   "metadata": {},
   "outputs": [],
   "source": [
    "\n",
    "import cvxlab as cl\n",
    "\n",
    "model_dir_name = 'PF_test'\n",
    "main_dir_path = r'D:\\One_Drive_Poli\\Tesi\\Modelli\\cvxlab_rh_dev'"
   ]
  },
  {
   "cell_type": "markdown",
   "metadata": {
    "slideshow": {
     "slide_type": "slide"
    }
   },
   "source": [
    "- - - \n",
    "MODEL DIRECTORY GENERATION\n",
    "\n",
    "Generation of a model directory in a defined path. Notes:\n",
    "- Blank .yml or .xlsx files can be generated\n",
    "- API_usage_guide.ipynb can be generated as guidance for main APIs\n",
    "- Template models can be imported based on the tests model gallery [tbd]\n",
    "\n"
   ]
  },
  {
   "cell_type": "code",
   "execution_count": null,
   "metadata": {},
   "outputs": [],
   "source": [
    "cl.create_model_dir(\n",
    "    model_dir_name=model_dir_name,\n",
    "    main_dir_path=main_dir_path,\n",
    "    template_file_type='xlsx',\n",
    "    export_tutorial=True,\n",
    ")"
   ]
  },
  {
   "cell_type": "markdown",
   "metadata": {},
   "source": [
    "- - - \n",
    "MODEL GENERATION FROM SCRATCH\n",
    "\n",
    "Step-by-step model creation with sets, data and problems generation.\n",
    "\n",
    "- Generation of a Model instance defined by settings files filled by user\n",
    "- model_settings_from: select among yml and xlsx\n",
    "- use_existing_data=True : model coordinates are loaded and numerical problem initialized (model ready to be run). \n",
    "- use_existing_data=False : sets excel file generated only, to be filled by user"
   ]
  },
  {
   "cell_type": "code",
   "execution_count": null,
   "metadata": {},
   "outputs": [],
   "source": [
    "model = cl.Model(\n",
    "    model_dir_name=model_dir_name,\n",
    "    main_dir_path=main_dir_path,\n",
    "    log_level='debug',\n",
    "    model_settings_from='xlsx',\n",
    "    multiple_input_files=True,\n",
    "    use_existing_data=False,\n",
    "    detailed_validation=True,\n",
    ")"
   ]
  },
  {
   "cell_type": "markdown",
   "metadata": {},
   "source": [
    "Once sets.xlsx file has filled with sets data:\n",
    "\n",
    "- load_model_coordinates(): load user defined sets, fill coordinates\n",
    "- initialize_blank_data_structure():\n",
    "    - generate blank sqlite database with sets and variables (empty numerical values)\n",
    "    - generate blank xlsx files for exogenous data to be filled by the user"
   ]
  },
  {
   "cell_type": "code",
   "execution_count": null,
   "metadata": {},
   "outputs": [],
   "source": [
    "model.load_model_coordinates()\n",
    "model.initialize_blank_data_structure()"
   ]
  },
  {
   "cell_type": "markdown",
   "metadata": {},
   "source": [
    "Once exogenous xlsx files has filled:\n",
    "\n",
    "- load_exogenous_data_to_sqlite_database(): load input data into sqlite database\n",
    "- initialize_problems(): load and validate symbolic problem, generate numerical problem "
   ]
  },
  {
   "cell_type": "code",
   "execution_count": null,
   "metadata": {},
   "outputs": [],
   "source": [
    "model.load_exogenous_data_to_sqlite_database(force_overwrite=True)\n",
    "model.initialize_problems()\n",
    "\n",
    "rolling_database= False # True if you want to create a rolling database for the model\n",
    "if rolling_database:\n",
    "        model.create_rolling_database()"
   ]
  },
  {
   "cell_type": "markdown",
   "metadata": {},
   "source": [
    "- - - \n",
    "MODEL GENERATION FROM EXISTING DATA\n",
    "\n",
    "If use_existing_data=True, generation of Model instance working with existing database and data input files.\n",
    "\n",
    "The model is generated and ready to be solved."
   ]
  },
  {
   "cell_type": "code",
   "execution_count": 3,
   "metadata": {},
   "outputs": [
    {
     "name": "stderr",
     "output_type": "stream",
     "text": [
      "INFO | Model | Generating 'PF_test' model instance.\n",
      "DEBUG | Model.core.index | Loading and validating 'structure_sets' data structure from 'xlsx' source.\n",
      "DEBUG | Model.file_manager | Excel tab 'structure_sets' loaded from 'model_settings.xlsx'.\n",
      "DEBUG | Model.core.index | Loading and validating 'structure_variables' data structure from 'xlsx' source.\n",
      "DEBUG | Model.file_manager | Excel tab 'structure_variables' loaded from 'model_settings.xlsx'.\n",
      "DEBUG | Model.core.index | Completing data tables with information taken from related Sets.\n",
      "DEBUG | Model.core.index | Fetching and validating variables from data tables, generating 'Variable' objects.\n",
      "DEBUG | Model.core.index | Fetching 'coordinates_info' to Index.variables.\n",
      "INFO | Model | Loading existing sets data and variable coordinates to Index.\n",
      "DEBUG | Model.core.index | Loading Sets data to Index.sets.\n",
      "DEBUG | Model.file_manager | Excel file 'sets.xlsx' loaded.\n",
      "DEBUG | Model.core.index | Loading variable coordinates to Index.data.\n",
      "DEBUG | Model.core.index | Loading variable coordinates to Index.variables.\n",
      "DEBUG | Model.core.index | Filtering variables coordinates in Index.variables.\n",
      "DEBUG | Model.core.index | Validating variables coherence with coordinates.\n",
      "DEBUG | Model.core.index | Identifying aggregated dimensions for constants coordinates.\n",
      "INFO | Model.core.index | Fetching scenario/s information to Index.\n",
      "DEBUG | Model.core.index | Loading tables 'foreign_keys' to Index.data_tables.\n",
      "INFO | Model | Loading and validating symbolic problem, initializing numerical problem.\n",
      "DEBUG | Model.core.problem | Loading and validating structure of symbolic problem from 'xlsx' file.\n",
      "DEBUG | Model.file_manager | Excel tab 'problem' loaded from 'model_settings.xlsx'.\n",
      "DEBUG | Model.core.problem | Validating symbolic problem expressions coherence with variables [TBD].\n",
      "DEBUG | Model.core | Symbolic problem successfully loaded and validated.\n",
      "DEBUG | Model.core | Generating dataframes with cvxpy problems.\n",
      "DEBUG | Model.core | Generating data structures for endogenous data tables (cvxpy objects, filters dict for data tables).\n",
      "DEBUG | Model.core | Data table 'Q' | type: endogenous | Generating dataframe and cvxpy variable.\n",
      "DEBUG | Model.core | Data table 'Q_agg' | type: endogenous | Generating dataframe and cvxpy variable.\n",
      "DEBUG | Model.core | Data table 'X' | type: endogenous | Generating dataframe and cvxpy variable.\n",
      "DEBUG | Model.core | Data table 'X_f' | type: {1: 'endogenous', 2: 'exogenous'} | Generating dataframe and cvxpy variable.\n",
      "DEBUG | Model.core | Data table 'Q_f' | type: {1: 'endogenous', 2: 'exogenous'} | Generating dataframe and cvxpy variable.\n",
      "DEBUG | Model.core | Data table 'C_f' | type: {1: 'endogenous', 2: 'exogenous'} | Generating dataframe and cvxpy variable.\n",
      "DEBUG | Model.core | Data table 'Cap' | type: endogenous | Generating dataframe and cvxpy variable.\n",
      "DEBUG | Model.core | Data table 'Cap_tot' | type: endogenous | Generating dataframe and cvxpy variable.\n",
      "DEBUG | Model.core | Generating data structures for all variables and constants.\n",
      "DEBUG | Model.core | Variable 'u' | type: exogenous | Generating data structure.\n",
      "DEBUG | Model.core | Variable 'd' | type: exogenous | Generating data structure.\n",
      "DEBUG | Model.core | Variable 'Y' | type: exogenous | Generating data structure.\n",
      "DEBUG | Model.core | Variable 'load_max' | type: exogenous | Generating data structure.\n",
      "DEBUG | Model.core | Variable 'load_min' | type: exogenous | Generating data structure.\n",
      "DEBUG | Model.core | Variable 'Cin' | type: exogenous | Generating data structure.\n",
      "DEBUG | Model.core | Variable 'c_inv' | type: exogenous | Generating data structure.\n",
      "DEBUG | Model.core | Variable 'c_oem' | type: exogenous | Generating data structure.\n",
      "DEBUG | Model.core | Variable 'MaxCap' | type: exogenous | Generating data structure.\n",
      "DEBUG | Model.core | Variable 'Q' | type: endogenous | Generating data structure.\n",
      "DEBUG | Model.core | Variable 'Q_agg' | type: endogenous | Generating data structure.\n",
      "DEBUG | Model.core | Variable 'X' | type: endogenous | Generating data structure.\n",
      "DEBUG | Model.core | Variable 'X_f' | type: {1: 'endogenous', 2: 'exogenous'} | Generating data structure.\n",
      "DEBUG | Model.core | Variable 'Q_f' | type: {1: 'endogenous', 2: 'exogenous'} | Generating data structure.\n",
      "DEBUG | Model.core | Variable 'C_f' | type: {1: 'endogenous', 2: 'exogenous'} | Generating data structure.\n",
      "DEBUG | Model.core | Variable 'Cap' | type: endogenous | Generating data structure.\n",
      "DEBUG | Model.core | Variable 'Cap_tot' | type: endogenous | Generating data structure.\n",
      "DEBUG | Model.core | Variable 'I_ff' | type: exogenous | Generating data structure.\n",
      "DEBUG | Model.core | Variable 'T_yy' | type: constant | Constant value 'lower_triangular'.\n",
      "DEBUG | Model.core.problem | Converting constant values to sparse matrix.\n",
      "DEBUG | Model.core | Fetching data from 'database.db' to cvxpy exogenous variables.\n",
      "DEBUG | Model.core.sql_manager | Connection to 'database.db' opened.\n",
      "DEBUG | Model.core | Data table 'u' | Fetching data to cvxpy exogenous variable.\n",
      "DEBUG | Model.core.problem | Variable 'u' | Converting data to sparse matrix.\n",
      "DEBUG | Model.core | Data table 'd' | Fetching data to cvxpy exogenous variable.\n",
      "DEBUG | Model.core.problem | Variable 'd' | Converting data to sparse matrix.\n",
      "DEBUG | Model.core | Data table 'Y' | Fetching data to cvxpy exogenous variable.\n",
      "DEBUG | Model.core.problem | Variable 'Y' | Converting data to sparse matrix.\n",
      "DEBUG | Model.core | Data table 'load_max' | Fetching data to cvxpy exogenous variable.\n",
      "DEBUG | Model.core | Data table 'load_min' | Fetching data to cvxpy exogenous variable.\n",
      "DEBUG | Model.core.problem | Variable 'load_min' | Converting data to sparse matrix.\n",
      "DEBUG | Model.core | Data table 'Cin' | Fetching data to cvxpy exogenous variable.\n",
      "DEBUG | Model.core | Data table 'c_inv' | Fetching data to cvxpy exogenous variable.\n",
      "DEBUG | Model.core | Data table 'c_oem' | Fetching data to cvxpy exogenous variable.\n",
      "DEBUG | Model.core | Data table 'MaxCap' | Fetching data to cvxpy exogenous variable.\n",
      "DEBUG | Model.core | Data table 'X_f' | Fetching data to cvxpy exogenous variable.\n",
      "DEBUG | Model.core | Data table 'Q_f' | Fetching data to cvxpy exogenous variable.\n",
      "DEBUG | Model.core | Data table 'C_f' | Fetching data to cvxpy exogenous variable.\n",
      "DEBUG | Model.core | Data table 'I_ff' | Fetching data to cvxpy exogenous variable.\n",
      "DEBUG | Model.core.problem | Variable 'I_ff' | Converting data to sparse matrix.\n",
      "DEBUG | Model.core.sql_manager | Connection to 'database.db' closed.\n",
      "DEBUG | Model.core.problem | Defining cvxpy numerical problems based on symbolic problems.\n",
      "DEBUG | Model.core.problem | Defining sub-problem '1'\n",
      "DEBUG | Model.core.problem | Processing literal expression: 'Cap_tot == tran(Cin) + Cap @ tran(T_yy)'\n",
      "DEBUG | Model.core.problem | Processing literal expression: 'X >= 0'\n",
      "DEBUG | Model.core.problem | Processing literal expression: 'Cap >= 0'\n",
      "DEBUG | Model.core.problem | Processing literal expression: 'Q >= 0'\n",
      "DEBUG | Model.core.problem | Processing literal expression: 'Q_agg >= 0'\n",
      "DEBUG | Model.core.problem | Processing literal expression: 'Q_agg == I_ff@tran(Q)'\n",
      "DEBUG | Model.core.problem | Processing literal expression: 'Q_agg - Y - u@tran(X) == 0'\n",
      "DEBUG | Model.core.problem | Processing literal expression: 'tran(X) - d@tran(Q) == 0'\n",
      "DEBUG | Model.core.problem | Processing literal expression: 'Cap <= MaxCap'\n",
      "DEBUG | Model.core.problem | Processing literal expression: 'tran(X) <= mult(Cap_tot,tran(load_max)*8760)'\n",
      "DEBUG | Model.core.problem | Processing literal expression: 'tran(X) >= mult(Cap_tot,tran(load_min)*8760)'\n",
      "DEBUG | Model.core.problem | Processing literal expression: 'Minimize(sum(mult(tran(c_inv),Cap)) + sum(tran(mult(c_oem,X))))'\n",
      "INFO | Model | Numerical problem successfully initialized.\n",
      "INFO | Model | Model 'PF_test' successfully generated.\n"
     ]
    }
   ],
   "source": [
    "model = cl.Model(\n",
    "    model_dir_name=model_dir_name,\n",
    "    main_dir_path=main_dir_path,\n",
    "    log_level='debug',\n",
    "    model_settings_from='xlsx',\n",
    "    use_existing_data=True,\n",
    "    detailed_validation=True,\n",
    ")"
   ]
  },
  {
   "cell_type": "code",
   "execution_count": 4,
   "metadata": {},
   "outputs": [
    {
     "name": "stderr",
     "output_type": "stream",
     "text": [
      "INFO | Model | Solving '1' independent numerical problem(s) for '1' scenarios with 'GUROBI' solver.\n",
      "INFO | Model.core.problem | Solving cvxpy sub-problem '1'\n"
     ]
    },
    {
     "name": "stdout",
     "output_type": "stream",
     "text": [
      "Set parameter Username\n",
      "Set parameter LicenseID to value 2587630\n",
      "Academic license - for non-commercial use only - expires 2025-11-20\n"
     ]
    },
    {
     "name": "stderr",
     "output_type": "stream",
     "text": [
      "c:\\Users\\sando\\anaconda3\\envs\\esm\\lib\\site-packages\\cvxpy\\problems\\problem.py:1409: UserWarning: \n",
      "    The problem is either infeasible or unbounded, but the solver\n",
      "    cannot tell which. Disable any solver-specific presolve methods\n",
      "    and re-solve to determine the precise problem status.\n",
      "\n",
      "    For GUROBI and CPLEX you can automatically perform this re-solve\n",
      "    with the keyword argument prob.solve(reoptimize=True, ...).\n",
      "    \n",
      "  warnings.warn(INF_OR_UNB_MESSAGE)\n",
      "INFO | Model | ==============================\n",
      "INFO | Model | Numerical problems status report:\n",
      "INFO | Model | Sub-problem [1]: infeasible_or_unbounded\n"
     ]
    }
   ],
   "source": [
    "model.run_model(\n",
    "    verbose=False,\n",
    "    solver='GUROBI',\n",
    "    integrated_problems=False,\n",
    "    rolling=False, # True if you want to run the model in rolling mode, do it after running the model in non-rolling mode once\n",
    ")"
   ]
  },
  {
   "cell_type": "markdown",
   "metadata": {},
   "source": [
    "- - - \n",
    "SAVING/LOADING MODEL INSTANCE\n",
    "\n",
    "In case model instance generation is taking huge time, it is possible to save/load model instance to avoid regenerating it several times.\n",
    "\n",
    "Notice that - for unknown reasons - model instance can be loaded only if it has not already solve (i.e. do not save model instance if you run the model!)"
   ]
  },
  {
   "cell_type": "code",
   "execution_count": null,
   "metadata": {},
   "outputs": [],
   "source": [
    "cl.save_model_instance(\n",
    "    instance=model, # name of the model instance here\n",
    "    file_name='instance_name'\n",
    ")"
   ]
  },
  {
   "cell_type": "code",
   "execution_count": null,
   "metadata": {},
   "outputs": [],
   "source": [
    "model = cl.load_model_instance(\n",
    "    file_name='file_name',\n",
    "    source_dir_path=r\"D:\\git_repos\\pyesm\\tests\\models\\integrated\\1_coupled_model\\instances\",\n",
    ")"
   ]
  },
  {
   "cell_type": "markdown",
   "metadata": {},
   "source": [
    "- - -\n",
    "DATA and SYMBOLIC PROBLEM UPDATE without regenerating Model instance\n",
    "\n",
    "- initialize_problems(): if symbolic problem has modified, upload it and generates a new numerical model\n",
    "\n",
    "- update_database_and_problem(): in case of modifications in input data files (but not in sets, nor in variables structures) and symbolic problem, update database and problem\n",
    "\n",
    "- reinitialize_sqlite_database(): reinitialize sqlite database endogenous variables\n"
   ]
  },
  {
   "cell_type": "code",
   "execution_count": null,
   "metadata": {},
   "outputs": [],
   "source": [
    "# in case of need for generating only one or more data input files/tabs\n",
    "model.generate_input_data_files(table_key_list=[])"
   ]
  },
  {
   "cell_type": "code",
   "execution_count": null,
   "metadata": {},
   "outputs": [],
   "source": [
    "# in case of modifications in symbolic problem only,\n",
    "# update problems dataframe and symbolic problem\n",
    "model.initialize_problems()"
   ]
  },
  {
   "cell_type": "code",
   "execution_count": null,
   "metadata": {},
   "outputs": [],
   "source": [
    "# in case of modifications in input data files (but not in sets, nor in \n",
    "# variables structures) and symbolic problem, update database and problem\n",
    "model.update_database_and_problem()"
   ]
  },
  {
   "cell_type": "code",
   "execution_count": null,
   "metadata": {},
   "outputs": [],
   "source": [
    "# in case of modifications in input data files (but not in sets, nor in \n",
    "# variables structures) and symbolic problem, reinitialize sqlite database for\n",
    "# endogenous variables\n",
    "model.reinitialize_sqlite_database(force_overwrite=True)"
   ]
  },
  {
   "cell_type": "markdown",
   "metadata": {},
   "source": [
    "- - -\n",
    "SOLVE NUMERICAL PROBLEM and ENDOGENOUS DATA EXPORT\n",
    "\n",
    "- run_model(): run model with various settings\n",
    "- load_results_to_database(): once model has successfully solved, load endogenous parameters data to sqlite database.\n",
    "- check_model_results(): check model results compared to an existing database (path and name of the database with the expected results in model settings attributes)"
   ]
  },
  {
   "cell_type": "code",
   "execution_count": null,
   "metadata": {},
   "outputs": [],
   "source": [
    "model.run_model(\n",
    "    verbose=False,\n",
    "    solver='GUROBI',\n",
    "    integrated_problems=True,\n",
    ")"
   ]
  },
  {
   "cell_type": "code",
   "execution_count": null,
   "metadata": {},
   "outputs": [],
   "source": [
    "model.load_results_to_database(force_overwrite=True)"
   ]
  },
  {
   "cell_type": "code",
   "execution_count": null,
   "metadata": {},
   "outputs": [],
   "source": [
    "model.check_model_results()"
   ]
  },
  {
   "cell_type": "markdown",
   "metadata": {},
   "source": [
    "- - -\n",
    "UTILITIES\n",
    "\n",
    "- sets(): list of model sets\n",
    "- variables(): dictionary with variable name (key) and shape of teh variable (value)\n",
    "- variable(name, ...): visual check of variables content in the database\n",
    "- set(name): visual check of sets content in the database"
   ]
  },
  {
   "cell_type": "code",
   "execution_count": null,
   "metadata": {},
   "outputs": [],
   "source": [
    "model.variables\n",
    "model.sets"
   ]
  },
  {
   "cell_type": "code",
   "execution_count": null,
   "metadata": {},
   "outputs": [],
   "source": [
    "model.set('products')"
   ]
  },
  {
   "cell_type": "code",
   "execution_count": null,
   "metadata": {},
   "outputs": [],
   "source": [
    "model.variable(name='L',)"
   ]
  }
 ],
 "metadata": {
  "kernelspec": {
   "display_name": "esm",
   "language": "python",
   "name": "python3"
  },
  "language_info": {
   "codemirror_mode": {
    "name": "ipython",
    "version": 3
   },
   "file_extension": ".py",
   "mimetype": "text/x-python",
   "name": "python",
   "nbconvert_exporter": "python",
   "pygments_lexer": "ipython3",
   "version": "3.10.13"
  },
  "orig_nbformat": 4
 },
 "nbformat": 4,
 "nbformat_minor": 2
}
